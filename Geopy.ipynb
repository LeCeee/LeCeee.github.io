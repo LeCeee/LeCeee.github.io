{
 "cells": [
  {
   "cell_type": "code",
   "execution_count": 1,
   "metadata": {},
   "outputs": [],
   "source": [
    "from geopy.geocoders import Nominatim"
   ]
  },
  {
   "cell_type": "code",
   "execution_count": 2,
   "metadata": {},
   "outputs": [],
   "source": [
    "geolocator = Nominatim(user_agent =  \"Women Saftey\")"
   ]
  },
  {
   "cell_type": "code",
   "execution_count": 3,
   "metadata": {},
   "outputs": [],
   "source": [
    "location = geolocator.geocode(\"175 5th Avenue NYC\")"
   ]
  },
  {
   "cell_type": "code",
   "execution_count": 5,
   "metadata": {},
   "outputs": [
    {
     "name": "stdout",
     "output_type": "stream",
     "text": [
      "(40.7410861, -73.9896298241625)\n"
     ]
    }
   ],
   "source": [
    "print((location.latitude, location.longitude))"
   ]
  },
  {
   "cell_type": "code",
   "execution_count": 6,
   "metadata": {},
   "outputs": [
    {
     "name": "stdout",
     "output_type": "stream",
     "text": [
      "{'place_id': '138642704', 'licence': 'Data © OpenStreetMap contributors, ODbL 1.0. https://osm.org/copyright', 'osm_type': 'way', 'osm_id': '264768896', 'boundingbox': ['40.7407597', '40.7413004', '-73.9898715', '-73.9895014'], 'lat': '40.7410861', 'lon': '-73.9896298241625', 'display_name': 'Flatiron Building, 175, 5th Avenue, Flatiron District, Manhattan, Manhattan Community Board 5, New York County, NYC, New York, 10010, USA', 'class': 'tourism', 'type': 'attraction', 'importance': 0.793003315521974, 'icon': 'https://nominatim.openstreetmap.org/images/mapicons/poi_point_of_interest.p.20.png'}\n"
     ]
    }
   ],
   "source": [
    "print(location.raw)"
   ]
  },
  {
   "cell_type": "code",
   "execution_count": 7,
   "metadata": {},
   "outputs": [],
   "source": [
    "import folium"
   ]
  },
  {
   "cell_type": "code",
   "execution_count": 9,
   "metadata": {},
   "outputs": [],
   "source": [
    "map = folium.Map(location = (38.58, -99.09), zoom_start = 6, tiles = \"Mapbox Bright\")\n"
   ]
  },
  {
   "cell_type": "code",
   "execution_count": 10,
   "metadata": {},
   "outputs": [],
   "source": [
    "fg = folium.FeatureGroup(name = \"My Map\")"
   ]
  },
  {
   "cell_type": "code",
   "execution_count": 12,
   "metadata": {},
   "outputs": [],
   "source": [
    "for coordinates in [[38.2,-99.1],[39.2, -97.1]]:\n",
    "    fg.add_child(folium.Marker(location = coordinates, popup = \"Hi\", icon = folium.Icon(color = 'green')))"
   ]
  },
  {
   "cell_type": "code",
   "execution_count": 14,
   "metadata": {},
   "outputs": [
    {
     "data": {
      "text/html": [
       "<div style=\"width:100%;\"><div style=\"position:relative;width:100%;height:0;padding-bottom:60%;\"><iframe src=\"data:text/html;charset=utf-8;base64,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\" style=\"position:absolute;width:100%;height:100%;left:0;top:0;border:none !important;\" allowfullscreen webkitallowfullscreen mozallowfullscreen></iframe></div></div>"
      ],
      "text/plain": [
       "<folium.folium.Map at 0x18c5fe0eba8>"
      ]
     },
     "execution_count": 14,
     "metadata": {},
     "output_type": "execute_result"
    }
   ],
   "source": [
    "map.add_child(fg)"
   ]
  },
  {
   "cell_type": "code",
   "execution_count": 15,
   "metadata": {},
   "outputs": [],
   "source": [
    "map.save(\"Map1.html\")"
   ]
  },
  {
   "cell_type": "code",
   "execution_count": 16,
   "metadata": {},
   "outputs": [],
   "source": [
    "import pandas as pd"
   ]
  },
  {
   "cell_type": "code",
   "execution_count": 26,
   "metadata": {},
   "outputs": [],
   "source": [
    "data = pd.read_csv(\"try.csv\")"
   ]
  },
  {
   "cell_type": "code",
   "execution_count": 27,
   "metadata": {},
   "outputs": [
    {
     "data": {
      "text/html": [
       "<div>\n",
       "<style scoped>\n",
       "    .dataframe tbody tr th:only-of-type {\n",
       "        vertical-align: middle;\n",
       "    }\n",
       "\n",
       "    .dataframe tbody tr th {\n",
       "        vertical-align: top;\n",
       "    }\n",
       "\n",
       "    .dataframe thead th {\n",
       "        text-align: right;\n",
       "    }\n",
       "</style>\n",
       "<table border=\"1\" class=\"dataframe\">\n",
       "  <thead>\n",
       "    <tr style=\"text-align: right;\">\n",
       "      <th></th>\n",
       "      <th>NAME</th>\n",
       "      <th>LAT</th>\n",
       "      <th>LONG</th>\n",
       "      <th>HOSP</th>\n",
       "      <th>HOSPNO</th>\n",
       "      <th>PS</th>\n",
       "      <th>HELPNO</th>\n",
       "      <th>DIS</th>\n",
       "      <th>CAMERA</th>\n",
       "      <th>POP</th>\n",
       "      <th>TRANS</th>\n",
       "      <th>DISFROMPCR</th>\n",
       "      <th>UNSAFE</th>\n",
       "    </tr>\n",
       "  </thead>\n",
       "  <tbody>\n",
       "    <tr>\n",
       "      <th>0</th>\n",
       "      <td>Block C</td>\n",
       "      <td>28.674388</td>\n",
       "      <td>77.087626</td>\n",
       "      <td>Sehgal Neo Hospital</td>\n",
       "      <td>45565656</td>\n",
       "      <td>Paschim Vihar Police Station</td>\n",
       "      <td>25263471</td>\n",
       "      <td>West</td>\n",
       "      <td>YES</td>\n",
       "      <td>945</td>\n",
       "      <td>23.42</td>\n",
       "      <td>4.754</td>\n",
       "      <td>0</td>\n",
       "    </tr>\n",
       "    <tr>\n",
       "      <th>1</th>\n",
       "      <td>B3 Block</td>\n",
       "      <td>28.664372</td>\n",
       "      <td>77.101573</td>\n",
       "      <td>Sehgal Neo Hospital</td>\n",
       "      <td>45565656</td>\n",
       "      <td>Paschim Vihar Police Station</td>\n",
       "      <td>25263471</td>\n",
       "      <td>West</td>\n",
       "      <td>YES</td>\n",
       "      <td>973</td>\n",
       "      <td>20.75</td>\n",
       "      <td>3.746</td>\n",
       "      <td>0</td>\n",
       "    </tr>\n",
       "    <tr>\n",
       "      <th>2</th>\n",
       "      <td>A1 Block</td>\n",
       "      <td>28.676083</td>\n",
       "      <td>77.099084</td>\n",
       "      <td>Bhatia Global Hospital</td>\n",
       "      <td>25270702</td>\n",
       "      <td>Paschim Vihar Police Station</td>\n",
       "      <td>25263471</td>\n",
       "      <td>West</td>\n",
       "      <td>NO</td>\n",
       "      <td>984</td>\n",
       "      <td>22.76</td>\n",
       "      <td>4.543</td>\n",
       "      <td>0</td>\n",
       "    </tr>\n",
       "    <tr>\n",
       "      <th>3</th>\n",
       "      <td>Block 12</td>\n",
       "      <td>28.662433</td>\n",
       "      <td>77.090228</td>\n",
       "      <td>Sehgal Neo Hospital</td>\n",
       "      <td>45565656</td>\n",
       "      <td>Paschim Vihar Police Station</td>\n",
       "      <td>25263471</td>\n",
       "      <td>West</td>\n",
       "      <td>NO</td>\n",
       "      <td>1234</td>\n",
       "      <td>21.64</td>\n",
       "      <td>1.365</td>\n",
       "      <td>1</td>\n",
       "    </tr>\n",
       "    <tr>\n",
       "      <th>4</th>\n",
       "      <td>Block 4</td>\n",
       "      <td>28.665031</td>\n",
       "      <td>77.010524</td>\n",
       "      <td>Sehgal Neo Hospital</td>\n",
       "      <td>45565656</td>\n",
       "      <td>Paschim Vihar Police Station</td>\n",
       "      <td>25263471</td>\n",
       "      <td>West</td>\n",
       "      <td>NO</td>\n",
       "      <td>1435</td>\n",
       "      <td>24.86</td>\n",
       "      <td>0.465</td>\n",
       "      <td>1</td>\n",
       "    </tr>\n",
       "    <tr>\n",
       "      <th>5</th>\n",
       "      <td>A4 Block</td>\n",
       "      <td>28.673127</td>\n",
       "      <td>77.111944</td>\n",
       "      <td>Bhatia Global Hospital</td>\n",
       "      <td>25270702</td>\n",
       "      <td>Paschim Vihar Police Station</td>\n",
       "      <td>25263471</td>\n",
       "      <td>West</td>\n",
       "      <td>NO</td>\n",
       "      <td>1454</td>\n",
       "      <td>25.86</td>\n",
       "      <td>0.126</td>\n",
       "      <td>1</td>\n",
       "    </tr>\n",
       "    <tr>\n",
       "      <th>6</th>\n",
       "      <td>Guru Harkishan Nagar</td>\n",
       "      <td>28.673767</td>\n",
       "      <td>77.084005</td>\n",
       "      <td>Bhatia Global Hospital</td>\n",
       "      <td>25270702</td>\n",
       "      <td>Nihal Vihar Police Station</td>\n",
       "      <td>25946700</td>\n",
       "      <td>West</td>\n",
       "      <td>NO</td>\n",
       "      <td>2354</td>\n",
       "      <td>35.76</td>\n",
       "      <td>3.656</td>\n",
       "      <td>0</td>\n",
       "    </tr>\n",
       "    <tr>\n",
       "      <th>7</th>\n",
       "      <td>B4 Block</td>\n",
       "      <td>28.666161</td>\n",
       "      <td>77.087861</td>\n",
       "      <td>Sehgal Neo Hospital</td>\n",
       "      <td>45565656</td>\n",
       "      <td>Paschim Vihar Police Station</td>\n",
       "      <td>25263471</td>\n",
       "      <td>West</td>\n",
       "      <td>YES</td>\n",
       "      <td>2356</td>\n",
       "      <td>50.34</td>\n",
       "      <td>2.654</td>\n",
       "      <td>1</td>\n",
       "    </tr>\n",
       "    <tr>\n",
       "      <th>8</th>\n",
       "      <td>State Bank Nagar</td>\n",
       "      <td>28.661416</td>\n",
       "      <td>77.095807</td>\n",
       "      <td>Sehgal Neo Hospital</td>\n",
       "      <td>45565656</td>\n",
       "      <td>Paschim Vihar Police Station</td>\n",
       "      <td>25263471</td>\n",
       "      <td>West</td>\n",
       "      <td>YES</td>\n",
       "      <td>2435</td>\n",
       "      <td>33.65</td>\n",
       "      <td>1.455</td>\n",
       "      <td>0</td>\n",
       "    </tr>\n",
       "    <tr>\n",
       "      <th>9</th>\n",
       "      <td>B1 Block</td>\n",
       "      <td>28.669549</td>\n",
       "      <td>77.110271</td>\n",
       "      <td>Sehgal Neo Hospital</td>\n",
       "      <td>45565656</td>\n",
       "      <td>Paschim Vihar Police Station</td>\n",
       "      <td>25263471</td>\n",
       "      <td>West</td>\n",
       "      <td>YES</td>\n",
       "      <td>3356</td>\n",
       "      <td>30.64</td>\n",
       "      <td>1.876</td>\n",
       "      <td>0</td>\n",
       "    </tr>\n",
       "    <tr>\n",
       "      <th>10</th>\n",
       "      <td>LIC Colony</td>\n",
       "      <td>28.663035</td>\n",
       "      <td>77.085379</td>\n",
       "      <td>Sehgal Neo Hospital</td>\n",
       "      <td>45565656</td>\n",
       "      <td>Nihal Vihar Police Station</td>\n",
       "      <td>25946700</td>\n",
       "      <td>West</td>\n",
       "      <td>YES</td>\n",
       "      <td>3435</td>\n",
       "      <td>34.01</td>\n",
       "      <td>2.654</td>\n",
       "      <td>0</td>\n",
       "    </tr>\n",
       "    <tr>\n",
       "      <th>11</th>\n",
       "      <td>A2 Block</td>\n",
       "      <td>28.672826</td>\n",
       "      <td>77.100314</td>\n",
       "      <td>Sehgal Neo Hospital</td>\n",
       "      <td>45565656</td>\n",
       "      <td>Paschim Vihar Police Station</td>\n",
       "      <td>25263471</td>\n",
       "      <td>West</td>\n",
       "      <td>NO</td>\n",
       "      <td>3542</td>\n",
       "      <td>39.45</td>\n",
       "      <td>1.764</td>\n",
       "      <td>0</td>\n",
       "    </tr>\n",
       "    <tr>\n",
       "      <th>12</th>\n",
       "      <td>Block BG 8</td>\n",
       "      <td>28.662132</td>\n",
       "      <td>77.101729</td>\n",
       "      <td>Sehgal Neo Hospital</td>\n",
       "      <td>45565656</td>\n",
       "      <td>Paschim Vihar Police Station</td>\n",
       "      <td>25263471</td>\n",
       "      <td>West</td>\n",
       "      <td>NO</td>\n",
       "      <td>3545</td>\n",
       "      <td>41.75</td>\n",
       "      <td>0.765</td>\n",
       "      <td>0</td>\n",
       "    </tr>\n",
       "    <tr>\n",
       "      <th>13</th>\n",
       "      <td>Sunder Vihar</td>\n",
       "      <td>28.665916</td>\n",
       "      <td>77.089449</td>\n",
       "      <td>Bhatia Global Hospital</td>\n",
       "      <td>25270702</td>\n",
       "      <td>Paschim Vihar Police Station</td>\n",
       "      <td>25263471</td>\n",
       "      <td>West</td>\n",
       "      <td>YES</td>\n",
       "      <td>4324</td>\n",
       "      <td>44.34</td>\n",
       "      <td>5.453</td>\n",
       "      <td>0</td>\n",
       "    </tr>\n",
       "    <tr>\n",
       "      <th>14</th>\n",
       "      <td>A5 Block</td>\n",
       "      <td>28.676214</td>\n",
       "      <td>77.103447</td>\n",
       "      <td>Sehgal Neo Hospital</td>\n",
       "      <td>45565656</td>\n",
       "      <td>Paschim Vihar Police Station</td>\n",
       "      <td>25263471</td>\n",
       "      <td>West</td>\n",
       "      <td>NO</td>\n",
       "      <td>5434</td>\n",
       "      <td>43.42</td>\n",
       "      <td>0.433</td>\n",
       "      <td>0</td>\n",
       "    </tr>\n",
       "    <tr>\n",
       "      <th>15</th>\n",
       "      <td>Peera Garhi</td>\n",
       "      <td>28.676294</td>\n",
       "      <td>77.091526</td>\n",
       "      <td>Bhatia Global Hospital</td>\n",
       "      <td>25270702</td>\n",
       "      <td>Paschim Vihar Police Station</td>\n",
       "      <td>25263471</td>\n",
       "      <td>West</td>\n",
       "      <td>YES</td>\n",
       "      <td>5453</td>\n",
       "      <td>38.42</td>\n",
       "      <td>2.653</td>\n",
       "      <td>1</td>\n",
       "    </tr>\n",
       "    <tr>\n",
       "      <th>16</th>\n",
       "      <td>Jwalapuri</td>\n",
       "      <td>28.677837</td>\n",
       "      <td>77.078093</td>\n",
       "      <td>Sehgal Neo Hospital</td>\n",
       "      <td>45565656</td>\n",
       "      <td>Paschim Vihar Police Station</td>\n",
       "      <td>25263471</td>\n",
       "      <td>West</td>\n",
       "      <td>YES</td>\n",
       "      <td>5645</td>\n",
       "      <td>40.42</td>\n",
       "      <td>3.546</td>\n",
       "      <td>0</td>\n",
       "    </tr>\n",
       "    <tr>\n",
       "      <th>17</th>\n",
       "      <td>Inder Enclave</td>\n",
       "      <td>28.680252</td>\n",
       "      <td>77.084656</td>\n",
       "      <td>Sehgal Neo Hospital</td>\n",
       "      <td>45565656</td>\n",
       "      <td>Paschim Vihar Police Station</td>\n",
       "      <td>25263471</td>\n",
       "      <td>West</td>\n",
       "      <td>YES</td>\n",
       "      <td>6313</td>\n",
       "      <td>45.53</td>\n",
       "      <td>2.536</td>\n",
       "      <td>0</td>\n",
       "    </tr>\n",
       "    <tr>\n",
       "      <th>18</th>\n",
       "      <td>PVC Market</td>\n",
       "      <td>28.673418</td>\n",
       "      <td>77.078691</td>\n",
       "      <td>Sehgal Neo Hospital</td>\n",
       "      <td>45565656</td>\n",
       "      <td>Nihal Vihar Police Station</td>\n",
       "      <td>25946700</td>\n",
       "      <td>West</td>\n",
       "      <td>NO</td>\n",
       "      <td>7435</td>\n",
       "      <td>43.87</td>\n",
       "      <td>1.345</td>\n",
       "      <td>0</td>\n",
       "    </tr>\n",
       "  </tbody>\n",
       "</table>\n",
       "</div>"
      ],
      "text/plain": [
       "                    NAME        LAT       LONG                    HOSP  \\\n",
       "0                Block C  28.674388  77.087626     Sehgal Neo Hospital   \n",
       "1               B3 Block  28.664372  77.101573     Sehgal Neo Hospital   \n",
       "2               A1 Block  28.676083  77.099084  Bhatia Global Hospital   \n",
       "3               Block 12  28.662433  77.090228     Sehgal Neo Hospital   \n",
       "4                Block 4  28.665031  77.010524     Sehgal Neo Hospital   \n",
       "5               A4 Block  28.673127  77.111944  Bhatia Global Hospital   \n",
       "6   Guru Harkishan Nagar  28.673767  77.084005  Bhatia Global Hospital   \n",
       "7               B4 Block  28.666161  77.087861     Sehgal Neo Hospital   \n",
       "8       State Bank Nagar  28.661416  77.095807     Sehgal Neo Hospital   \n",
       "9               B1 Block  28.669549  77.110271     Sehgal Neo Hospital   \n",
       "10            LIC Colony  28.663035  77.085379     Sehgal Neo Hospital   \n",
       "11              A2 Block  28.672826  77.100314     Sehgal Neo Hospital   \n",
       "12            Block BG 8  28.662132  77.101729     Sehgal Neo Hospital   \n",
       "13          Sunder Vihar  28.665916  77.089449  Bhatia Global Hospital   \n",
       "14              A5 Block  28.676214  77.103447     Sehgal Neo Hospital   \n",
       "15           Peera Garhi  28.676294  77.091526  Bhatia Global Hospital   \n",
       "16             Jwalapuri  28.677837  77.078093     Sehgal Neo Hospital   \n",
       "17         Inder Enclave  28.680252  77.084656     Sehgal Neo Hospital   \n",
       "18            PVC Market  28.673418  77.078691     Sehgal Neo Hospital   \n",
       "\n",
       "      HOSPNO                            PS    HELPNO   DIS CAMERA   POP  \\\n",
       "0   45565656  Paschim Vihar Police Station  25263471  West    YES   945   \n",
       "1   45565656  Paschim Vihar Police Station  25263471  West    YES   973   \n",
       "2   25270702  Paschim Vihar Police Station  25263471  West     NO   984   \n",
       "3   45565656  Paschim Vihar Police Station  25263471  West     NO  1234   \n",
       "4   45565656  Paschim Vihar Police Station  25263471  West     NO  1435   \n",
       "5   25270702  Paschim Vihar Police Station  25263471  West     NO  1454   \n",
       "6   25270702    Nihal Vihar Police Station  25946700  West     NO  2354   \n",
       "7   45565656  Paschim Vihar Police Station  25263471  West    YES  2356   \n",
       "8   45565656  Paschim Vihar Police Station  25263471  West    YES  2435   \n",
       "9   45565656  Paschim Vihar Police Station  25263471  West    YES  3356   \n",
       "10  45565656    Nihal Vihar Police Station  25946700  West    YES  3435   \n",
       "11  45565656  Paschim Vihar Police Station  25263471  West     NO  3542   \n",
       "12  45565656  Paschim Vihar Police Station  25263471  West     NO  3545   \n",
       "13  25270702  Paschim Vihar Police Station  25263471  West    YES  4324   \n",
       "14  45565656  Paschim Vihar Police Station  25263471  West     NO  5434   \n",
       "15  25270702  Paschim Vihar Police Station  25263471  West    YES  5453   \n",
       "16  45565656  Paschim Vihar Police Station  25263471  West    YES  5645   \n",
       "17  45565656  Paschim Vihar Police Station  25263471  West    YES  6313   \n",
       "18  45565656    Nihal Vihar Police Station  25946700  West     NO  7435   \n",
       "\n",
       "    TRANS  DISFROMPCR  UNSAFE  \n",
       "0   23.42       4.754       0  \n",
       "1   20.75       3.746       0  \n",
       "2   22.76       4.543       0  \n",
       "3   21.64       1.365       1  \n",
       "4   24.86       0.465       1  \n",
       "5   25.86       0.126       1  \n",
       "6   35.76       3.656       0  \n",
       "7   50.34       2.654       1  \n",
       "8   33.65       1.455       0  \n",
       "9   30.64       1.876       0  \n",
       "10  34.01       2.654       0  \n",
       "11  39.45       1.764       0  \n",
       "12  41.75       0.765       0  \n",
       "13  44.34       5.453       0  \n",
       "14  43.42       0.433       0  \n",
       "15  38.42       2.653       1  \n",
       "16  40.42       3.546       0  \n",
       "17  45.53       2.536       0  \n",
       "18  43.87       1.345       0  "
      ]
     },
     "execution_count": 27,
     "metadata": {},
     "output_type": "execute_result"
    }
   ],
   "source": [
    "data"
   ]
  },
  {
   "cell_type": "code",
   "execution_count": 73,
   "metadata": {},
   "outputs": [],
   "source": [
    "lat = list(data[\"LAT\"])\n",
    "lon = list(data[\"LONG\"])\n",
    "stat = list(data[\"UNSAFE\"])\n",
    "hosp = list(data[\"HOSPNO\"])"
   ]
  },
  {
   "cell_type": "code",
   "execution_count": 74,
   "metadata": {},
   "outputs": [],
   "source": [
    "map =  folium.Map(location = [28.68, 77.01], zoom_start = 11, tiles = \"Mapbox Bright\",API_key='pk.eyJ1IjoicHJlcm5hc2luZ2giLCJhIjoiY2ptbHgwd3JxMGN6aTNwbWxqZ2VlZGNuMyJ9.qUgjhyFX-o0kyaqtNzD1Ew')"
   ]
  },
  {
   "cell_type": "code",
   "execution_count": 75,
   "metadata": {},
   "outputs": [],
   "source": [
    "fg = folium.FeatureGroup(name = \"My Map\")"
   ]
  },
  {
   "cell_type": "code",
   "execution_count": 76,
   "metadata": {},
   "outputs": [],
   "source": [
    "def color_prod (st) :\n",
    "\n",
    "    if st == 1.0 :\n",
    "        return \"green\"\n",
    "    else : \n",
    "        return \"red\""
   ]
  },
  {
   "cell_type": "code",
   "execution_count": 114,
   "metadata": {},
   "outputs": [],
   "source": [
    "for lt, ln, st, hos in zip(lat, lon, stat, hosp):\n",
    "    fg.add_child(folium.Marker(location = [lt, ln], \n",
    "                               popup = folium.Popup(f'status : {st} hosp : (str{hos})', parse_html =True),\n",
    "                               icon = folium.Icon(color=color_prod(st))))"
   ]
  },
  {
   "cell_type": "code",
   "execution_count": 115,
   "metadata": {},
   "outputs": [
    {
     "data": {
      "text/html": [
       "<div style=\"width:100%;\"><div style=\"position:relative;width:100%;height:0;padding-bottom:60%;\"><iframe src=\"data:text/html;charset=utf-8;base64,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\" style=\"position:absolute;width:100%;height:100%;left:0;top:0;border:none !important;\" allowfullscreen webkitallowfullscreen mozallowfullscreen></iframe></div></div>"
      ],
      "text/plain": [
       "<folium.folium.Map at 0x18c6049a518>"
      ]
     },
     "execution_count": 115,
     "metadata": {},
     "output_type": "execute_result"
    }
   ],
   "source": [
    "map.add_child(fg)"
   ]
  },
  {
   "cell_type": "code",
   "execution_count": 116,
   "metadata": {},
   "outputs": [
    {
     "data": {
      "text/plain": [
       "<folium.raster_layers.TileLayer at 0x18c5c2e2e80>"
      ]
     },
     "execution_count": 116,
     "metadata": {},
     "output_type": "execute_result"
    }
   ],
   "source": [
    "folium.TileLayer('openstreetmap').add_to(map)"
   ]
  },
  {
   "cell_type": "code",
   "execution_count": 117,
   "metadata": {},
   "outputs": [],
   "source": [
    "map.save(\"MapNew.html\")"
   ]
  },
  {
   "cell_type": "code",
   "execution_count": null,
   "metadata": {},
   "outputs": [],
   "source": []
  },
  {
   "cell_type": "code",
   "execution_count": null,
   "metadata": {},
   "outputs": [],
   "source": []
  }
 ],
 "metadata": {
  "kernelspec": {
   "display_name": "Python 3",
   "language": "python",
   "name": "python3"
  },
  "language_info": {
   "codemirror_mode": {
    "name": "ipython",
    "version": 3
   },
   "file_extension": ".py",
   "mimetype": "text/x-python",
   "name": "python",
   "nbconvert_exporter": "python",
   "pygments_lexer": "ipython3",
   "version": "3.6.5"
  }
 },
 "nbformat": 4,
 "nbformat_minor": 2
}
